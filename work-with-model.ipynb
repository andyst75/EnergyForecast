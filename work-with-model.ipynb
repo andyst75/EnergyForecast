{
 "cells": [
  {
   "cell_type": "code",
   "execution_count": 63,
   "metadata": {},
   "outputs": [],
   "source": [
    "\"\"\"\n",
    "Работа с моделью и данными по электроэнергетике ОЭС Средняя Волга\n",
    "\"\"\"\n",
    "import pickle\n",
    "import pandas as pd\n",
    "import numpy as np\n",
    "\n",
    "class Energy:\n",
    "\n",
    "    def __init__(self, filename='model_data.pkl'):\n",
    "        \"\"\"Загружаем заранее предобработанные данные и предобученную модель\"\"\"\n",
    "        \n",
    "        with open(filename, 'rb') as handle:\n",
    "            self.data = pickle.load(handle)\n",
    "            self.df = data['data']\n",
    "            self.model = data['model']\n",
    "\n",
    "    def get_data(self, date='1979-01-01'):\n",
    "        \"\"\"\n",
    "        Датафрейм, начиная с указанной даты\n",
    "        \"\"\"\n",
    "        \n",
    "        return np.expm1(self.df[self.df.DATE >= date][[\"USE_FACT\"]])\n",
    "\n",
    "    def get_predict(self, date='1979-01-01'):\n",
    "        \"\"\"\n",
    "        Датафрейм, содержащий прогнозы, начиная с указанной даты, на последующие 5 дней\n",
    "        \"\"\"\n",
    "        \n",
    "        dataframe = data['data']\n",
    "        X_data = self.df[self.df.DATE >= date] \\\n",
    "            .drop(columns=[\"DATE\", \"USE_PRED1\", \"USE_PRED2\", \"USE_PRED3\", \"USE_PRED4\", \"USE_PRED5\"])\n",
    "        return np.expm1(data['model'].predict(X_data))"
   ]
  },
  {
   "cell_type": "code",
   "execution_count": 65,
   "metadata": {},
   "outputs": [
    {
     "data": {
      "text/html": [
       "<div>\n",
       "<style scoped>\n",
       "    .dataframe tbody tr th:only-of-type {\n",
       "        vertical-align: middle;\n",
       "    }\n",
       "\n",
       "    .dataframe tbody tr th {\n",
       "        vertical-align: top;\n",
       "    }\n",
       "\n",
       "    .dataframe thead th {\n",
       "        text-align: right;\n",
       "    }\n",
       "</style>\n",
       "<table border=\"1\" class=\"dataframe\">\n",
       "  <thead>\n",
       "    <tr style=\"text-align: right;\">\n",
       "      <th></th>\n",
       "      <th>USE_FACT</th>\n",
       "    </tr>\n",
       "    <tr>\n",
       "      <th>DATE</th>\n",
       "      <th></th>\n",
       "    </tr>\n",
       "  </thead>\n",
       "  <tbody>\n",
       "    <tr>\n",
       "      <th>2020-11-16</th>\n",
       "      <td>45502.666667</td>\n",
       "    </tr>\n",
       "    <tr>\n",
       "      <th>2020-11-17</th>\n",
       "      <td>45955.527778</td>\n",
       "    </tr>\n",
       "    <tr>\n",
       "      <th>2020-11-18</th>\n",
       "      <td>46376.388889</td>\n",
       "    </tr>\n",
       "    <tr>\n",
       "      <th>2020-11-19</th>\n",
       "      <td>46355.958333</td>\n",
       "    </tr>\n",
       "    <tr>\n",
       "      <th>2020-11-20</th>\n",
       "      <td>46327.222222</td>\n",
       "    </tr>\n",
       "    <tr>\n",
       "      <th>2020-11-21</th>\n",
       "      <td>44700.000000</td>\n",
       "    </tr>\n",
       "  </tbody>\n",
       "</table>\n",
       "</div>"
      ],
      "text/plain": [
       "                USE_FACT\n",
       "DATE                    \n",
       "2020-11-16  45502.666667\n",
       "2020-11-17  45955.527778\n",
       "2020-11-18  46376.388889\n",
       "2020-11-19  46355.958333\n",
       "2020-11-20  46327.222222\n",
       "2020-11-21  44700.000000"
      ]
     },
     "execution_count": 65,
     "metadata": {},
     "output_type": "execute_result"
    }
   ],
   "source": [
    "en = Energy();\n",
    "en.get_data(\"2020-11-16\")"
   ]
  },
  {
   "cell_type": "code",
   "execution_count": 66,
   "metadata": {},
   "outputs": [
    {
     "data": {
      "text/plain": [
       "array([[46216.15330643, 45997.40744186, 45995.03343109, 45802.26782128,\n",
       "        44384.53020789],\n",
       "       [46219.11187338, 46366.61152838, 45771.05358747, 44882.39098804,\n",
       "        44993.64887839],\n",
       "       [46697.57042218, 46616.10521968, 45617.37614489, 44815.24319102,\n",
       "        45804.33467285],\n",
       "       [45843.52719002, 45339.40496869, 45696.32407157, 46325.29014616,\n",
       "        46298.43217172],\n",
       "       [45385.46983628, 44543.29528611, 45404.93101844, 46327.94913327,\n",
       "        46321.64612512],\n",
       "       [44848.45278731, 45911.21708206, 46080.43155597, 45971.89053567,\n",
       "        45703.45111405]])"
      ]
     },
     "execution_count": 66,
     "metadata": {},
     "output_type": "execute_result"
    }
   ],
   "source": [
    "en.get_predict(\"2020-11-16\")"
   ]
  }
 ],
 "metadata": {
  "kernelspec": {
   "display_name": "Python 3",
   "language": "python",
   "name": "python3"
  },
  "language_info": {
   "codemirror_mode": {
    "name": "ipython",
    "version": 3
   },
   "file_extension": ".py",
   "mimetype": "text/x-python",
   "name": "python",
   "nbconvert_exporter": "python",
   "pygments_lexer": "ipython3",
   "version": "3.7.7"
  }
 },
 "nbformat": 4,
 "nbformat_minor": 4
}
