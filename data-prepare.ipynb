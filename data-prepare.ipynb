{
 "cells": [
  {
   "cell_type": "markdown",
   "metadata": {},
   "source": [
    "# Шаги по предобработки данных, полученных из разных источников\n",
    "\n",
    "Сложность данного этапа заключается в том, что присутствуют разные провайдеры данных, с различной структурой данных.\n",
    "\n",
    "В данном ноутбуке будут представлены основные шаги по обработке данных, полученных из каждого источника."
   ]
  },
  {
   "cell_type": "markdown",
   "metadata": {},
   "source": [
    "## Обработка данных по оптовому рынку электроэнергетики.\n",
    "\n",
    "1. Скачиваем данные по адресу https://br.so-ups.ru/BR/GenConsum\n",
    "2. Данные содержат почасовые прогнозные и фактические данные, относящиеся региону ОЭС Средней Волги. Сворачиваем фактическое потребление до посуточных значений.\n",
    "3. Сохраняем в формате csv для дальшейшей обработки."
   ]
  },
  {
   "cell_type": "markdown",
   "metadata": {},
   "source": [
    "## Обработка данных Сбериндекса"
   ]
  },
  {
   "cell_type": "markdown",
   "metadata": {},
   "source": [
    "1. Скачиваем данные по адресу:\n",
    " - https://sberindex.ru/ru/dashboards/indeks-potrebitelskoi-aktivnosti\n",
    " - https://sberindex.ru/ru/dashboards/izmenenie-aktivnosti-msp-po-regionam\n",
    "2. Оставляем данные, относящиеся к интересующему нас региону\n",
    "\n",
    "Сниппет для отбора регионов:"
   ]
  },
  {
   "cell_type": "code",
   "execution_count": null,
   "metadata": {},
   "outputs": [],
   "source": [
    "area = ['Пензенская область', 'Самарская область', 'Саратовская область',\n",
    "    'Ульяновская область', 'Нижегородская область', 'Чувашская Республика',\n",
    "    'Республика Марий Эл', 'Мордовия', 'Республика Татарстан',]\n",
    "df = df[df[\"Регион\"].isin(area)]"
   ]
  },
  {
   "cell_type": "markdown",
   "metadata": {},
   "source": [
    "3. Сохраняем в формате csv для дальшейшей обработки."
   ]
  },
  {
   "cell_type": "markdown",
   "metadata": {},
   "source": [
    "## Обработка индекса самоизоляции от Yandex"
   ]
  },
  {
   "cell_type": "markdown",
   "metadata": {},
   "source": [
    "1. Скачиваем данные по адресу:\n",
    " - https://datalens.yandex/7o7is1q6ikh23?tab=q6\n",
    "2. Используя сервис **dadata.ru** отбираем города, относящиеся к данной Объединенной энергетической системе.\n",
    "3. Сохраняем в формате csv для дальшейшей обработки."
   ]
  },
  {
   "cell_type": "markdown",
   "metadata": {},
   "source": [
    "## Обработка данных по температуре"
   ]
  },
  {
   "cell_type": "markdown",
   "metadata": {},
   "source": [
    "1. Скачать данные за требуемые периоды с сайта: ftp://ftp.ncdc.noaa.gov/pub/data/gsod/\n",
    "2. Распаковать данные следующим сниппетом:"
   ]
  },
  {
   "cell_type": "code",
   "execution_count": null,
   "metadata": {},
   "outputs": [],
   "source": [
    "def data_year(year):\n",
    "    df = pd.DataFrame(columns=[\"STN---\", \"YEARMODA\", \"TEMP\", \"VISIB\", \"REGION\"])\n",
    "    with tarfile.open(f\"../gsod_{year}.tar\", \"r:*\") as tar:\n",
    "        for tar_name in tar.getnames():\n",
    "            if len(tar_name) > 2 and int(tar_name.replace(\"./\", \"\").split(\"-\")[0]) in stations:\n",
    "                data_year = pd.read_fwf(tar.extractfile(tar_name), \n",
    "                                        widths=[6, 8, 8, 8, 3, 9, 3, 8, 3, 8, 2, 8], \n",
    "                                        compression='gzip')[[\"STN---\", \"YEARMODA\", \"TEMP\", \"VISIB\"]].dropna()\n",
    "                data_year[\"YEAR\"] = data_year[\"YEARMODA\"] // 10000\n",
    "                data_year[\"MONTH\"] = (data_year[\"YEARMODA\"] - data_year[\"YEAR\"] * 10000) // 100\n",
    "                data_year[\"DAY\"] = data_year[\"YEARMODA\"] - data_year[\"YEAR\"] * 10000 - data_year[\"MONTH\"] * 100\n",
    "                data_year[\"REGION\"] = data_year[\"STN---\"].map(stations)\n",
    "                df = df.append(data_year)\n",
    "    print(year)\n",
    "    return df"
   ]
  },
  {
   "cell_type": "markdown",
   "metadata": {},
   "source": [
    "3. Используя следующий сниппет отбираем метеостанции относящиеся к конкретным регионам."
   ]
  },
  {
   "cell_type": "code",
   "execution_count": null,
   "metadata": {},
   "outputs": [],
   "source": [
    "overpass_url = \"http://overpass-api.de/api/interpreter\"\n",
    "\n",
    "for row, item in df.iterrows():\n",
    "    lat = item[\"LAT\"]\n",
    "    lon = item[\"LON\"]\n",
    "    if not pd.isna(lat) and not pd.isna(lon) and pd.isna(item[\"region_with_type\"]):\n",
    "        overpass_q = f\"\"\"\n",
    "[out:json][timeout:300];\n",
    "is_in({lat}, {lon})->.areas;\n",
    "rel(pivot.areas)[boundary=administrative][admin_level~\"^[4]$\"];\n",
    "out geom;\n",
    "\"\"\"\n",
    "        response = requests.get(overpass_url, params={'data': overpass_q})\n",
    "        if \"rate_limited\" in response.text or \"runtime error\" in response.text:\n",
    "            print(\"Timeout\", lat, lon)\n",
    "            time.sleep(300)\n",
    "        else:\n",
    "            time.sleep(3)\n",
    "            if len(response.json()[\"elements\"]):\n",
    "                tags = response.json()[\"elements\"][0][\"tags\"]\n",
    "                if \"ref\" in tags:\n",
    "                    df.loc[row, 'region_with_type'] = tags[\"name\"]\n",
    "                    df.loc[row, 'region_iso_code'] = tags[\"ref\"]\n",
    "                    print(row, lat, lon, tags[\"name\"], tags[\"ref\"])"
   ]
  },
  {
   "cell_type": "markdown",
   "metadata": {},
   "source": [
    "4. Отобрать данные только по требуемому ОЭС\n",
    "5. Сохраняем в формате csv для дальшейшей обработки"
   ]
  },
  {
   "cell_type": "markdown",
   "metadata": {},
   "source": [
    "Для каждого этапа получения и обработки данных возможна полная автоматизация процесса, предусмотренная соответствующим лицензионным соглашением."
   ]
  }
 ],
 "metadata": {
  "kernelspec": {
   "display_name": "Python 3",
   "language": "python",
   "name": "python3"
  },
  "language_info": {
   "codemirror_mode": {
    "name": "ipython",
    "version": 3
   },
   "file_extension": ".py",
   "mimetype": "text/x-python",
   "name": "python",
   "nbconvert_exporter": "python",
   "pygments_lexer": "ipython3",
   "version": "3.7.7"
  }
 },
 "nbformat": 4,
 "nbformat_minor": 4
}
